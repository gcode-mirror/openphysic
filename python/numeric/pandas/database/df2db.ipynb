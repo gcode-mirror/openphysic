{
 "metadata": {
  "name": ""
 },
 "nbformat": 3,
 "nbformat_minor": 0,
 "worksheets": [
  {
   "cells": [
    {
     "cell_type": "code",
     "collapsed": false,
     "input": [
      "import numpy as np\n",
      "import pandas as pd\n",
      "import sqlite3"
     ],
     "language": "python",
     "metadata": {},
     "outputs": [],
     "prompt_number": 16
    },
    {
     "cell_type": "code",
     "collapsed": false,
     "input": [
      "#df = pd.DataFrame([[1,2,3],[4,5,6],[7,8,9],[10,11,12]], columns=['a', 'b', 'c'])\n",
      "df = pd.DataFrame(np.random.rand(3,3), columns=['a', 'b', 'c'])"
     ],
     "language": "python",
     "metadata": {},
     "outputs": [],
     "prompt_number": 8
    },
    {
     "cell_type": "code",
     "collapsed": false,
     "input": [
      "df"
     ],
     "language": "python",
     "metadata": {},
     "outputs": [
      {
       "html": [
        "<div style=\"max-height:1000px;max-width:1500px;overflow:auto;\">\n",
        "<table border=\"1\" class=\"dataframe\">\n",
        "  <thead>\n",
        "    <tr style=\"text-align: right;\">\n",
        "      <th></th>\n",
        "      <th>a</th>\n",
        "      <th>b</th>\n",
        "      <th>c</th>\n",
        "    </tr>\n",
        "  </thead>\n",
        "  <tbody>\n",
        "    <tr>\n",
        "      <th>0</th>\n",
        "      <td> 0.619556</td>\n",
        "      <td> 0.200241</td>\n",
        "      <td> 0.525433</td>\n",
        "    </tr>\n",
        "    <tr>\n",
        "      <th>1</th>\n",
        "      <td> 0.610135</td>\n",
        "      <td> 0.067841</td>\n",
        "      <td> 0.745743</td>\n",
        "    </tr>\n",
        "    <tr>\n",
        "      <th>2</th>\n",
        "      <td> 0.168830</td>\n",
        "      <td> 0.870783</td>\n",
        "      <td> 0.379069</td>\n",
        "    </tr>\n",
        "  </tbody>\n",
        "</table>\n",
        "</div>"
       ],
       "metadata": {},
       "output_type": "pyout",
       "prompt_number": 9,
       "text": [
        "          a         b         c\n",
        "0  0.619556  0.200241  0.525433\n",
        "1  0.610135  0.067841  0.745743\n",
        "2  0.168830  0.870783  0.379069"
       ]
      }
     ],
     "prompt_number": 9
    },
    {
     "cell_type": "code",
     "collapsed": false,
     "input": [
      "df.dtypes"
     ],
     "language": "python",
     "metadata": {},
     "outputs": [
      {
       "metadata": {},
       "output_type": "pyout",
       "prompt_number": 10,
       "text": [
        "a    float64\n",
        "b    float64\n",
        "c    float64\n",
        "dtype: object"
       ]
      }
     ],
     "prompt_number": 10
    },
    {
     "cell_type": "markdown",
     "metadata": {},
     "source": [
      "pd.io.sql.read_frame\n",
      "\n",
      "pd.io.sql.write_frame\n",
      "\n",
      "http://pandas.pydata.org/pandas-docs/dev/generated/pandas.io.sql.read_frame.html?highlight=sql#pandas.io.sql.read_frame"
     ]
    },
    {
     "cell_type": "code",
     "collapsed": false,
     "input": [
      "#db_path = 'database.sqlite'\n",
      "#cnx = sqlite3.connect(db_path)\n",
      "cnx = sqlite3.connect(':memory:')\n",
      "\n",
      "cur = cnx.cursor()    \n",
      "cur.execute('SELECT SQLITE_VERSION()')\n",
      "data = cur.fetchone()\n",
      "print(\"SQLite version: %s\" % data)"
     ],
     "language": "python",
     "metadata": {},
     "outputs": [
      {
       "output_type": "stream",
       "stream": "stdout",
       "text": [
        "SQLite version: 3.7.3\n"
       ]
      }
     ],
     "prompt_number": 11
    },
    {
     "cell_type": "code",
     "collapsed": false,
     "input": [
      "pd.io.sql.write_frame(df, 'dataframe', cnx, flavor='sqlite', if_exists='replace')"
     ],
     "language": "python",
     "metadata": {},
     "outputs": [],
     "prompt_number": 12
    },
    {
     "cell_type": "code",
     "collapsed": false,
     "input": [
      "df_new = pd.io.sql.read_frame('SELECT * FROM dataframe;', cnx)"
     ],
     "language": "python",
     "metadata": {},
     "outputs": [],
     "prompt_number": 13
    },
    {
     "cell_type": "code",
     "collapsed": false,
     "input": [
      "df_new"
     ],
     "language": "python",
     "metadata": {},
     "outputs": [
      {
       "html": [
        "<div style=\"max-height:1000px;max-width:1500px;overflow:auto;\">\n",
        "<table border=\"1\" class=\"dataframe\">\n",
        "  <thead>\n",
        "    <tr style=\"text-align: right;\">\n",
        "      <th></th>\n",
        "      <th>a</th>\n",
        "      <th>b</th>\n",
        "      <th>c</th>\n",
        "    </tr>\n",
        "  </thead>\n",
        "  <tbody>\n",
        "    <tr>\n",
        "      <th>0</th>\n",
        "      <td> 0.619556</td>\n",
        "      <td> 0.200241</td>\n",
        "      <td> 0.525433</td>\n",
        "    </tr>\n",
        "    <tr>\n",
        "      <th>1</th>\n",
        "      <td> 0.610135</td>\n",
        "      <td> 0.067841</td>\n",
        "      <td> 0.745743</td>\n",
        "    </tr>\n",
        "    <tr>\n",
        "      <th>2</th>\n",
        "      <td> 0.168830</td>\n",
        "      <td> 0.870783</td>\n",
        "      <td> 0.379069</td>\n",
        "    </tr>\n",
        "  </tbody>\n",
        "</table>\n",
        "</div>"
       ],
       "metadata": {},
       "output_type": "pyout",
       "prompt_number": 14,
       "text": [
        "          a         b         c\n",
        "0  0.619556  0.200241  0.525433\n",
        "1  0.610135  0.067841  0.745743\n",
        "2  0.168830  0.870783  0.379069"
       ]
      }
     ],
     "prompt_number": 14
    },
    {
     "cell_type": "code",
     "collapsed": false,
     "input": [
      "df_new.dtypes"
     ],
     "language": "python",
     "metadata": {},
     "outputs": [
      {
       "metadata": {},
       "output_type": "pyout",
       "prompt_number": 15,
       "text": [
        "a    float64\n",
        "b    float64\n",
        "c    float64\n",
        "dtype: object"
       ]
      }
     ],
     "prompt_number": 15
    }
   ],
   "metadata": {}
  }
 ]
}